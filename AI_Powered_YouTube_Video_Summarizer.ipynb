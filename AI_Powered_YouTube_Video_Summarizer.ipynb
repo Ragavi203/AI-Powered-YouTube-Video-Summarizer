{
  "nbformat": 4,
  "nbformat_minor": 0,
  "metadata": {
    "colab": {
      "provenance": [],
      "authorship_tag": "ABX9TyOfXjD0BOJeLzvyNSmA31yz",
      "include_colab_link": true
    },
    "kernelspec": {
      "name": "python3",
      "display_name": "Python 3"
    },
    "language_info": {
      "name": "python"
    }
  },
  "cells": [
    {
      "cell_type": "markdown",
      "metadata": {
        "id": "view-in-github",
        "colab_type": "text"
      },
      "source": [
        "<a href=\"https://colab.research.google.com/github/Ragavi203/AI-Powered-YouTube-Video-Summarizer/blob/main/AI_Powered_YouTube_Video_Summarizer.ipynb\" target=\"_parent\"><img src=\"https://colab.research.google.com/assets/colab-badge.svg\" alt=\"Open In Colab\"/></a>"
      ]
    },
    {
      "cell_type": "code",
      "source": [
        "pip install google-api-python-client yt-dlp transformers torch moviepy opencv-python numpy pydub"
      ],
      "metadata": {
        "colab": {
          "base_uri": "https://localhost:8080/"
        },
        "id": "dslTV-4qVgq7",
        "outputId": "0c5ceb4d-9de9-4c51-acac-297f4399e662"
      },
      "execution_count": null,
      "outputs": [
        {
          "output_type": "stream",
          "name": "stdout",
          "text": [
            "Requirement already satisfied: google-api-python-client in /usr/local/lib/python3.10/dist-packages (2.155.0)\n",
            "Requirement already satisfied: yt-dlp in /usr/local/lib/python3.10/dist-packages (2025.1.12)\n",
            "Requirement already satisfied: transformers in /usr/local/lib/python3.10/dist-packages (4.47.1)\n",
            "Requirement already satisfied: torch in /usr/local/lib/python3.10/dist-packages (2.5.1+cu121)\n",
            "Requirement already satisfied: moviepy in /usr/local/lib/python3.10/dist-packages (1.0.3)\n",
            "Requirement already satisfied: opencv-python in /usr/local/lib/python3.10/dist-packages (4.10.0.84)\n",
            "Requirement already satisfied: numpy in /usr/local/lib/python3.10/dist-packages (1.26.4)\n",
            "Requirement already satisfied: pydub in /usr/local/lib/python3.10/dist-packages (0.25.1)\n",
            "Requirement already satisfied: httplib2<1.dev0,>=0.19.0 in /usr/local/lib/python3.10/dist-packages (from google-api-python-client) (0.22.0)\n",
            "Requirement already satisfied: google-auth!=2.24.0,!=2.25.0,<3.0.0.dev0,>=1.32.0 in /usr/local/lib/python3.10/dist-packages (from google-api-python-client) (2.27.0)\n",
            "Requirement already satisfied: google-auth-httplib2<1.0.0,>=0.2.0 in /usr/local/lib/python3.10/dist-packages (from google-api-python-client) (0.2.0)\n",
            "Requirement already satisfied: google-api-core!=2.0.*,!=2.1.*,!=2.2.*,!=2.3.0,<3.0.0.dev0,>=1.31.5 in /usr/local/lib/python3.10/dist-packages (from google-api-python-client) (2.19.2)\n",
            "Requirement already satisfied: uritemplate<5,>=3.0.1 in /usr/local/lib/python3.10/dist-packages (from google-api-python-client) (4.1.1)\n",
            "Requirement already satisfied: filelock in /usr/local/lib/python3.10/dist-packages (from transformers) (3.16.1)\n",
            "Requirement already satisfied: huggingface-hub<1.0,>=0.24.0 in /usr/local/lib/python3.10/dist-packages (from transformers) (0.27.1)\n",
            "Requirement already satisfied: packaging>=20.0 in /usr/local/lib/python3.10/dist-packages (from transformers) (24.2)\n",
            "Requirement already satisfied: pyyaml>=5.1 in /usr/local/lib/python3.10/dist-packages (from transformers) (6.0.2)\n",
            "Requirement already satisfied: regex!=2019.12.17 in /usr/local/lib/python3.10/dist-packages (from transformers) (2024.11.6)\n",
            "Requirement already satisfied: requests in /usr/local/lib/python3.10/dist-packages (from transformers) (2.32.3)\n",
            "Requirement already satisfied: tokenizers<0.22,>=0.21 in /usr/local/lib/python3.10/dist-packages (from transformers) (0.21.0)\n",
            "Requirement already satisfied: safetensors>=0.4.1 in /usr/local/lib/python3.10/dist-packages (from transformers) (0.5.1)\n",
            "Requirement already satisfied: tqdm>=4.27 in /usr/local/lib/python3.10/dist-packages (from transformers) (4.67.1)\n",
            "Requirement already satisfied: typing-extensions>=4.8.0 in /usr/local/lib/python3.10/dist-packages (from torch) (4.12.2)\n",
            "Requirement already satisfied: networkx in /usr/local/lib/python3.10/dist-packages (from torch) (3.4.2)\n",
            "Requirement already satisfied: jinja2 in /usr/local/lib/python3.10/dist-packages (from torch) (3.1.5)\n",
            "Requirement already satisfied: fsspec in /usr/local/lib/python3.10/dist-packages (from torch) (2024.10.0)\n",
            "Requirement already satisfied: sympy==1.13.1 in /usr/local/lib/python3.10/dist-packages (from torch) (1.13.1)\n",
            "Requirement already satisfied: mpmath<1.4,>=1.1.0 in /usr/local/lib/python3.10/dist-packages (from sympy==1.13.1->torch) (1.3.0)\n",
            "Requirement already satisfied: decorator<5.0,>=4.0.2 in /usr/local/lib/python3.10/dist-packages (from moviepy) (4.4.2)\n",
            "Requirement already satisfied: imageio<3.0,>=2.5 in /usr/local/lib/python3.10/dist-packages (from moviepy) (2.36.1)\n",
            "Requirement already satisfied: imageio_ffmpeg>=0.2.0 in /usr/local/lib/python3.10/dist-packages (from moviepy) (0.5.1)\n",
            "Requirement already satisfied: proglog<=1.0.0 in /usr/local/lib/python3.10/dist-packages (from moviepy) (0.1.10)\n",
            "Requirement already satisfied: googleapis-common-protos<2.0.dev0,>=1.56.2 in /usr/local/lib/python3.10/dist-packages (from google-api-core!=2.0.*,!=2.1.*,!=2.2.*,!=2.3.0,<3.0.0.dev0,>=1.31.5->google-api-python-client) (1.66.0)\n",
            "Requirement already satisfied: protobuf!=3.20.0,!=3.20.1,!=4.21.0,!=4.21.1,!=4.21.2,!=4.21.3,!=4.21.4,!=4.21.5,<6.0.0.dev0,>=3.19.5 in /usr/local/lib/python3.10/dist-packages (from google-api-core!=2.0.*,!=2.1.*,!=2.2.*,!=2.3.0,<3.0.0.dev0,>=1.31.5->google-api-python-client) (4.25.5)\n",
            "Requirement already satisfied: proto-plus<2.0.0dev,>=1.22.3 in /usr/local/lib/python3.10/dist-packages (from google-api-core!=2.0.*,!=2.1.*,!=2.2.*,!=2.3.0,<3.0.0.dev0,>=1.31.5->google-api-python-client) (1.25.0)\n",
            "Requirement already satisfied: cachetools<6.0,>=2.0.0 in /usr/local/lib/python3.10/dist-packages (from google-auth!=2.24.0,!=2.25.0,<3.0.0.dev0,>=1.32.0->google-api-python-client) (5.5.0)\n",
            "Requirement already satisfied: pyasn1-modules>=0.2.1 in /usr/local/lib/python3.10/dist-packages (from google-auth!=2.24.0,!=2.25.0,<3.0.0.dev0,>=1.32.0->google-api-python-client) (0.4.1)\n",
            "Requirement already satisfied: rsa<5,>=3.1.4 in /usr/local/lib/python3.10/dist-packages (from google-auth!=2.24.0,!=2.25.0,<3.0.0.dev0,>=1.32.0->google-api-python-client) (4.9)\n",
            "Requirement already satisfied: pyparsing!=3.0.0,!=3.0.1,!=3.0.2,!=3.0.3,<4,>=2.4.2 in /usr/local/lib/python3.10/dist-packages (from httplib2<1.dev0,>=0.19.0->google-api-python-client) (3.2.1)\n",
            "Requirement already satisfied: pillow>=8.3.2 in /usr/local/lib/python3.10/dist-packages (from imageio<3.0,>=2.5->moviepy) (11.1.0)\n",
            "Requirement already satisfied: setuptools in /usr/local/lib/python3.10/dist-packages (from imageio_ffmpeg>=0.2.0->moviepy) (75.1.0)\n",
            "Requirement already satisfied: charset-normalizer<4,>=2 in /usr/local/lib/python3.10/dist-packages (from requests->transformers) (3.4.1)\n",
            "Requirement already satisfied: idna<4,>=2.5 in /usr/local/lib/python3.10/dist-packages (from requests->transformers) (2.10)\n",
            "Requirement already satisfied: urllib3<3,>=1.21.1 in /usr/local/lib/python3.10/dist-packages (from requests->transformers) (2.3.0)\n",
            "Requirement already satisfied: certifi>=2017.4.17 in /usr/local/lib/python3.10/dist-packages (from requests->transformers) (2024.12.14)\n",
            "Requirement already satisfied: MarkupSafe>=2.0 in /usr/local/lib/python3.10/dist-packages (from jinja2->torch) (3.0.2)\n",
            "Requirement already satisfied: pyasn1<0.7.0,>=0.4.6 in /usr/local/lib/python3.10/dist-packages (from pyasn1-modules>=0.2.1->google-auth!=2.24.0,!=2.25.0,<3.0.0.dev0,>=1.32.0->google-api-python-client) (0.6.1)\n"
          ]
        }
      ]
    },
    {
      "cell_type": "code",
      "source": [
        "import os\n",
        "from googleapiclient.discovery import build\n",
        "import yt_dlp\n",
        "from transformers import pipeline\n",
        "import cv2\n",
        "import numpy as np\n",
        "from moviepy.editor import VideoFileClip\n",
        "import json\n",
        "import tempfile\n",
        "import torch\n",
        "from pydub import AudioSegment\n",
        "import math\n",
        "\n",
        "class YouTubeVideoSummarizer:\n",
        "    def __init__(self, api_key):\n",
        "        \"\"\"Initialize with YouTube API key\"\"\"\n",
        "        self.youtube = build('youtube', 'v3', developerKey=api_key)\n",
        "        # Initialize Whisper model with specific parameters\n",
        "        self.audio_transcriber = pipeline(\n",
        "            \"automatic-speech-recognition\",\n",
        "            model=\"openai/whisper-base\",\n",
        "            chunk_length_s=30,  # Process 30-second chunks\n",
        "            return_timestamps=True\n",
        "        )\n",
        "        self.text_summarizer = pipeline(\n",
        "            \"summarization\",\n",
        "            model=\"facebook/bart-large-cnn\",\n",
        "            device=0 if torch.cuda.is_available() else -1\n",
        "        )\n",
        "\n",
        "    def get_video_info(self, video_url):\n",
        "        \"\"\"Get video details from YouTube\"\"\"\n",
        "        video_id = (\n",
        "            video_url.split('v=')[1].split('&')[0]\n",
        "            if 'youtube.com' in video_url\n",
        "            else video_url.split('/')[-1]\n",
        "        )\n",
        "\n",
        "        request = self.youtube.videos().list(\n",
        "            part=\"snippet,contentDetails,statistics\",\n",
        "            id=video_id\n",
        "        )\n",
        "        response = request.execute()\n",
        "\n",
        "        if not response['items']:\n",
        "            raise ValueError(\"Video not found\")\n",
        "        return response['items'][0]\n",
        "\n",
        "    def download_video(self, video_url):\n",
        "        \"\"\"Download YouTube video\"\"\"\n",
        "        temp_dir = tempfile.mkdtemp()\n",
        "        output_path = os.path.join(temp_dir, 'video.mp4')\n",
        "\n",
        "        ydl_opts = {\n",
        "            'format': 'best[ext=mp4]',\n",
        "            'outtmpl': output_path,\n",
        "            'quiet': True\n",
        "        }\n",
        "\n",
        "        with yt_dlp.YoutubeDL(ydl_opts) as ydl:\n",
        "            ydl.download([video_url])\n",
        "        return output_path\n",
        "\n",
        "    def extract_audio_segment(self, video_clip, start_time, end_time, temp_dir):\n",
        "        \"\"\"Extract audio segment and save as WAV\"\"\"\n",
        "        segment = video_clip.subclip(start_time, end_time)\n",
        "        temp_audio_path = os.path.join(temp_dir, f'segment_{start_time}_{end_time}.wav')\n",
        "        segment.audio.write_audiofile(\n",
        "            temp_audio_path,\n",
        "            codec='pcm_s16le',\n",
        "            fps=16000,  # Whisper preferred sample rate\n",
        "            verbose=False,\n",
        "            logger=None\n",
        "        )\n",
        "        return temp_audio_path\n",
        "\n",
        "    def transcribe_long_audio(self, audio_path):\n",
        "        \"\"\"Transcribe audio with proper chunk handling\"\"\"\n",
        "        try:\n",
        "            # Transcribe with timestamps\n",
        "            result = self.audio_transcriber(\n",
        "                audio_path,\n",
        "                return_timestamps=True\n",
        "            )\n",
        "            return result['text']\n",
        "        except Exception as e:\n",
        "            print(f\"Transcription error: {str(e)}\")\n",
        "            return \"\"\n",
        "\n",
        "    def process_video_segment(self, video_clip, start_time, end_time, temp_dir):\n",
        "        \"\"\"Process a single video segment\"\"\"\n",
        "        try:\n",
        "            # Extract and transcribe audio\n",
        "            audio_path = self.extract_audio_segment(video_clip, start_time, end_time, temp_dir)\n",
        "            transcription = self.transcribe_long_audio(audio_path)\n",
        "\n",
        "            # Clean up audio file\n",
        "            os.remove(audio_path)\n",
        "\n",
        "            # Summarize transcription if long enough\n",
        "            if len(transcription.split()) > 50:\n",
        "                summary = self.text_summarizer(\n",
        "                    transcription,\n",
        "                    max_length=130,\n",
        "                    min_length=30,\n",
        "                    do_sample=False\n",
        "                )[0]['summary_text']\n",
        "            else:\n",
        "                summary = transcription\n",
        "\n",
        "            return {\n",
        "                'start_time': start_time,\n",
        "                'end_time': end_time,\n",
        "                'transcription': transcription,\n",
        "                'summary': summary\n",
        "            }\n",
        "        except Exception as e:\n",
        "            print(f\"Error processing segment {start_time}-{end_time}: {str(e)}\")\n",
        "            return None\n",
        "\n",
        "    def process_video(self, video_url, segment_duration=60):\n",
        "        \"\"\"Process YouTube video and generate summary\"\"\"\n",
        "        try:\n",
        "            # Create temporary directory for processing\n",
        "            temp_dir = tempfile.mkdtemp()\n",
        "\n",
        "            # Get video information\n",
        "            print(\"Fetching video information...\")\n",
        "            video_info = self.get_video_info(video_url)\n",
        "\n",
        "            # Download video\n",
        "            print(\"Downloading video...\")\n",
        "            video_path = self.download_video(video_url)\n",
        "\n",
        "            # Load video\n",
        "            video = VideoFileClip(video_path)\n",
        "            duration = video.duration\n",
        "\n",
        "            # Process video in segments\n",
        "            print(\"Processing video segments...\")\n",
        "            segments = []\n",
        "\n",
        "            for start_time in range(0, int(duration), segment_duration):\n",
        "                end_time = min(start_time + segment_duration, duration)\n",
        "                print(f\"Processing segment: {start_time}-{end_time} seconds\")\n",
        "\n",
        "                segment_result = self.process_video_segment(\n",
        "                    video, start_time, end_time, temp_dir\n",
        "                )\n",
        "\n",
        "                if segment_result:\n",
        "                    segments.append(segment_result)\n",
        "\n",
        "            # Create final summary\n",
        "            result = {\n",
        "                'video_id': video_info['id'],\n",
        "                'title': video_info['snippet']['title'],\n",
        "                'channel': video_info['snippet']['channelTitle'],\n",
        "                'duration': duration,\n",
        "                'view_count': video_info['statistics']['viewCount'],\n",
        "                'segments': segments,\n",
        "                'full_summary': self.create_full_summary(segments)\n",
        "            }\n",
        "\n",
        "            # Clean up\n",
        "            video.close()\n",
        "            os.remove(video_path)\n",
        "            os.rmdir(temp_dir)\n",
        "\n",
        "            return result\n",
        "\n",
        "        except Exception as e:\n",
        "            raise Exception(f\"Error processing video: {str(e)}\")\n",
        "\n",
        "    def create_full_summary(self, segments):\n",
        "        \"\"\"Create a complete summary from all segments\"\"\"\n",
        "        all_summaries = \" \".join(segment['summary'] for segment in segments)\n",
        "        if len(all_summaries.split()) > 100:\n",
        "            return self.text_summarizer(\n",
        "                all_summaries,\n",
        "                max_length=250,\n",
        "                min_length=100,\n",
        "                do_sample=False\n",
        "            )[0]['summary_text']\n",
        "        return all_summaries\n",
        "\n",
        "    def export_summary(self, summary, output_path):\n",
        "        \"\"\"Export summary to JSON file\"\"\"\n",
        "        with open(output_path, 'w', encoding='utf-8') as f:\n",
        "            json.dump(summary, f, indent=4, ensure_ascii=False)\n",
        "\n",
        "def main():\n",
        "    # Example usage\n",
        "    API_KEY = \"API KEY\"  # Replace with your API key\n",
        "    video_url = \"YOUTUBE VIEO LINK\"    # Replace with your video URL\n",
        "\n",
        "    try:\n",
        "        # Initialize summarizer\n",
        "        summarizer = YouTubeVideoSummarizer(API_KEY)\n",
        "\n",
        "        # Process video\n",
        "        print(\"Starting video processing...\")\n",
        "        summary = summarizer.process_video(video_url)\n",
        "\n",
        "        # Export summary\n",
        "        summarizer.export_summary(summary, \"video_summary.json\")\n",
        "        print(\"Summary saved to video_summary.json\")\n",
        "\n",
        "        # Print brief overview\n",
        "        print(\"\\nVideo Summary:\")\n",
        "        print(f\"Title: {summary['title']}\")\n",
        "        print(f\"Channel: {summary['channel']}\")\n",
        "        print(f\"Duration: {summary['duration']} seconds\")\n",
        "        print(\"\\nFull Summary:\")\n",
        "        print(summary['full_summary'])\n",
        "\n",
        "    except Exception as e:\n",
        "        print(f\"Error: {str(e)}\")\n",
        "\n",
        "if __name__ == \"__main__\":\n",
        "    main()"
      ],
      "metadata": {
        "colab": {
          "base_uri": "https://localhost:8080/"
        },
        "id": "UXW-WJg3Vgt0",
        "outputId": "08b22691-f8d6-41d6-a188-53fe53bc33e8"
      },
      "execution_count": null,
      "outputs": [
        {
          "output_type": "stream",
          "name": "stderr",
          "text": [
            "WARNING:py.warnings:/usr/local/lib/python3.10/dist-packages/huggingface_hub/utils/_auth.py:94: UserWarning: \n",
            "The secret `HF_TOKEN` does not exist in your Colab secrets.\n",
            "To authenticate with the Hugging Face Hub, create a token in your settings tab (https://huggingface.co/settings/tokens), set it as secret in your Google Colab and restart your session.\n",
            "You will be able to reuse this secret in all of your notebooks.\n",
            "Please note that authentication is recommended but still optional to access public models or datasets.\n",
            "  warnings.warn(\n",
            "\n",
            "Device set to use cpu\n",
            "Device set to use cpu\n"
          ]
        },
        {
          "output_type": "stream",
          "name": "stdout",
          "text": [
            "Starting video processing...\n",
            "Fetching video information...\n",
            "Downloading video...\n",
            "Processing video segments...\n",
            "Processing segment: 0-60 seconds\n"
          ]
        },
        {
          "output_type": "stream",
          "name": "stderr",
          "text": [
            "WARNING:py.warnings:/usr/local/lib/python3.10/dist-packages/transformers/models/whisper/generation_whisper.py:512: FutureWarning: The input name `inputs` is deprecated. Please make sure to use `input_features` instead.\n",
            "  warnings.warn(\n",
            "\n",
            "Due to a bug fix in https://github.com/huggingface/transformers/pull/28687 transcription using a multilingual Whisper will default to language detection followed by transcription instead of translation to English.This might be a breaking change for your use case. If you want to instead always translate your audio to English, make sure to pass `language='en'`.\n",
            "Passing a tuple of `past_key_values` is deprecated and will be removed in Transformers v4.43.0. You should pass an instance of `EncoderDecoderCache` instead, e.g. `past_key_values=EncoderDecoderCache.from_legacy_cache(past_key_values)`.\n",
            "The attention mask is not set and cannot be inferred from input because pad token is same as eos token. As a consequence, you may observe unexpected behavior. Please pass your input's `attention_mask` to obtain reliable results.\n"
          ]
        },
        {
          "output_type": "stream",
          "name": "stdout",
          "text": [
            "Processing segment: 60-120 seconds\n"
          ]
        },
        {
          "output_type": "stream",
          "name": "stderr",
          "text": [
            "WARNING:py.warnings:/usr/local/lib/python3.10/dist-packages/transformers/models/whisper/generation_whisper.py:512: FutureWarning: The input name `inputs` is deprecated. Please make sure to use `input_features` instead.\n",
            "  warnings.warn(\n",
            "\n"
          ]
        },
        {
          "output_type": "stream",
          "name": "stdout",
          "text": [
            "Processing segment: 120-180 seconds\n"
          ]
        },
        {
          "output_type": "stream",
          "name": "stderr",
          "text": [
            "WARNING:py.warnings:/usr/local/lib/python3.10/dist-packages/transformers/models/whisper/generation_whisper.py:512: FutureWarning: The input name `inputs` is deprecated. Please make sure to use `input_features` instead.\n",
            "  warnings.warn(\n",
            "\n"
          ]
        },
        {
          "output_type": "stream",
          "name": "stdout",
          "text": [
            "Processing segment: 180-240 seconds\n"
          ]
        },
        {
          "output_type": "stream",
          "name": "stderr",
          "text": [
            "WARNING:py.warnings:/usr/local/lib/python3.10/dist-packages/transformers/models/whisper/generation_whisper.py:512: FutureWarning: The input name `inputs` is deprecated. Please make sure to use `input_features` instead.\n",
            "  warnings.warn(\n",
            "\n"
          ]
        },
        {
          "output_type": "stream",
          "name": "stdout",
          "text": [
            "Processing segment: 240-300 seconds\n"
          ]
        },
        {
          "output_type": "stream",
          "name": "stderr",
          "text": [
            "WARNING:py.warnings:/usr/local/lib/python3.10/dist-packages/transformers/models/whisper/generation_whisper.py:512: FutureWarning: The input name `inputs` is deprecated. Please make sure to use `input_features` instead.\n",
            "  warnings.warn(\n",
            "\n"
          ]
        },
        {
          "output_type": "stream",
          "name": "stdout",
          "text": [
            "Processing segment: 300-360 seconds\n"
          ]
        },
        {
          "output_type": "stream",
          "name": "stderr",
          "text": [
            "WARNING:py.warnings:/usr/local/lib/python3.10/dist-packages/transformers/models/whisper/generation_whisper.py:512: FutureWarning: The input name `inputs` is deprecated. Please make sure to use `input_features` instead.\n",
            "  warnings.warn(\n",
            "\n"
          ]
        },
        {
          "output_type": "stream",
          "name": "stdout",
          "text": [
            "Processing segment: 360-420 seconds\n"
          ]
        },
        {
          "output_type": "stream",
          "name": "stderr",
          "text": [
            "WARNING:py.warnings:/usr/local/lib/python3.10/dist-packages/transformers/models/whisper/generation_whisper.py:512: FutureWarning: The input name `inputs` is deprecated. Please make sure to use `input_features` instead.\n",
            "  warnings.warn(\n",
            "\n"
          ]
        },
        {
          "output_type": "stream",
          "name": "stdout",
          "text": [
            "Processing segment: 420-480 seconds\n"
          ]
        },
        {
          "output_type": "stream",
          "name": "stderr",
          "text": [
            "WARNING:py.warnings:/usr/local/lib/python3.10/dist-packages/transformers/models/whisper/generation_whisper.py:512: FutureWarning: The input name `inputs` is deprecated. Please make sure to use `input_features` instead.\n",
            "  warnings.warn(\n",
            "\n"
          ]
        },
        {
          "output_type": "stream",
          "name": "stdout",
          "text": [
            "Processing segment: 480-540 seconds\n"
          ]
        },
        {
          "output_type": "stream",
          "name": "stderr",
          "text": [
            "WARNING:py.warnings:/usr/local/lib/python3.10/dist-packages/transformers/models/whisper/generation_whisper.py:512: FutureWarning: The input name `inputs` is deprecated. Please make sure to use `input_features` instead.\n",
            "  warnings.warn(\n",
            "\n"
          ]
        },
        {
          "output_type": "stream",
          "name": "stdout",
          "text": [
            "Processing segment: 540-594.45 seconds\n"
          ]
        },
        {
          "output_type": "stream",
          "name": "stderr",
          "text": [
            "WARNING:py.warnings:/usr/local/lib/python3.10/dist-packages/transformers/models/whisper/generation_whisper.py:512: FutureWarning: The input name `inputs` is deprecated. Please make sure to use `input_features` instead.\n",
            "  warnings.warn(\n",
            "\n",
            "Whisper did not predict an ending timestamp, which can happen if audio is cut off in the middle of a word. Also make sure WhisperTimeStampLogitsProcessor was used during generation.\n",
            "Your max_length is set to 130, but your input_length is only 115. Since this is a summarization task, where outputs shorter than the input are typically wanted, you might consider decreasing max_length manually, e.g. summarizer('...', max_length=57)\n"
          ]
        },
        {
          "output_type": "stream",
          "name": "stdout",
          "text": [
            "Summary saved to video_summary.json\n",
            "\n",
            "Video Summary:\n",
            "Title: LangChain vs LangGraph: A Tale of Two Frameworks\n",
            "Channel: IBM Technology\n",
            "Duration: 594.45 seconds\n",
            "\n",
            "Full Summary:\n",
            "Langchain and LangGraph are both open source frameworks designed to help developers build applications with large language models. At the core, Langchain is a wafer building LLM powered applications by executing a sequence of functions in a chain. Lang graph helps us create this as a graph structure where each one of these actions is considered as a node. And then the transitions between these things, that's known as edges. Now the central node is the process input node. So that's where the user input comes in.\n"
          ]
        }
      ]
    }
  ]
}